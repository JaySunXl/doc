{
  "nbformat": 4,
  "nbformat_minor": 0,
  "metadata": {
    "colab": {
      "name": "KNN.ipynb",
      "provenance": [],
      "collapsed_sections": [
        "sR2ZA9BjDvmH",
        "WWkf87AlD55V",
        "5C0ohy7ID-CX",
        "0zEsp7MOITaG",
        "kKBgQeBQJFPL",
        "KCHaN1yZJMaP",
        "fjgRBgd7JVyi",
        "cXmtbn_nJdnK",
        "Ej0PWwtiJ3oT"
      ],
      "toc_visible": true
    },
    "kernelspec": {
      "name": "python3",
      "display_name": "Python 3"
    }
  },
  "cells": [
    {
      "cell_type": "markdown",
      "metadata": {
        "id": "sR2ZA9BjDvmH"
      },
      "source": [
        "<details>\n",
        "<summary>点击展开目录</summary>\n",
        "<!-- TOC -->\n",
        "\n",
        "- [工作原理](#工作原理)\n",
        "- [K值选择](#k值选择)\n",
        "- [距离计算](#距离计算)\n",
        "    - [欧氏距离](#欧氏距离)\n",
        "    - [曼哈顿距离](#曼哈顿距离)\n",
        "    - [闵可夫斯基距离](#闵可夫斯基距离)\n",
        "    - [切比雪夫距离](#切比雪夫距离)\n",
        "    - [余弦距离](#余弦距离)\n",
        "\n",
        "<!-- /TOC -->\n",
        "</details>\n",
        "\n",
        "## 工作原理\n",
        "\n",
        "最近邻居法, K-近邻算法\n",
        "\n",
        "是一种用于分类和回归的非参数统计方法\n",
        "\n",
        "1. n维的坐标系中, 已知的元素映射在坐标系中\n",
        "2. 未知的元素x, 提取坐标值, 映射到坐标系中\n",
        "3. 计算x与其他已知元素的距离\n",
        "4. 统计k个距离最近的元素, 对此k个元素进行分析, 从而确定元素x的分类\n",
        "\n",
        "## K值选择\n",
        "\n",
        "k过小: 噪声点影响\n",
        "\n",
        "k过大: 分类交叉, 判断不明显\n",
        "\n",
        "## 距离计算\n",
        "\n",
        "<!-- ![](https://bkimg.cdn.bcebos.com/formula/3a06cb8159044706a0b3e12feb62244d.svg) -->\n",
        "\n",
        "以下坐标表示中的x,y均不表示坐标轴\n",
        "\n",
        "### 欧氏距离\n",
        "\n",
        "点 `a(x1, x2), b(y1, y2)`\n",
        "\n",
        "![](https://bkimg.cdn.bcebos.com/formula/34df776ddfdd406a96fbafedf1e0fcf4.svg)\n",
        "\n",
        "N维空间\n",
        "\n",
        "![](https://bkimg.cdn.bcebos.com/formula/87a52feb423631405eb499ddaec6941d.svg)\n",
        "\n",
        "### 曼哈顿距离\n",
        "\n",
        "两个点在坐标系上绝对轴距总和\n",
        "\n",
        "`d(i, j) = |x1 - x2| + |y1 - y2|`\n",
        "\n",
        "### 闵可夫斯基距离\n",
        "\n",
        "![](https://bkimg.cdn.bcebos.com/formula/5461915cb8cdb80332251b27ecb23270.svg)\n",
        "\n",
        "![](https://bkimg.cdn.bcebos.com/formula/199c95d9914c4b851533ce7e82bf8ecb.svg)\n",
        "\n",
        "其中p代表空间的维数,\n",
        "当p=1时, 就是曼哈顿距离;\n",
        "当p=2时, 就是欧氏距离;\n",
        "当p→∞时, 就是切比雪夫距离\n",
        "\n",
        "### 切比雪夫距离\n",
        "\n",
        "两个点坐标数值差的绝对值的最大值\n",
        "\n",
        "点 `a(x1, x2), b(y1, y2)`\n",
        "\n",
        "`d(i, j) = max(|x1 - y1|, |x2 - y2|)`\n",
        "\n",
        "### 余弦距离\n",
        "\n",
        "也叫余弦相似度\n",
        "\n",
        "![](https://bkimg.cdn.bcebos.com/formula/50c51a907a949e8bbdbfa9219ed8bd35.svg)\n",
        "\n",
        "余弦值的范围在`[-1, 1]`之间,\n",
        "值越趋近于1, 代表两个向量的方向越接近,\n",
        "越趋近于-1, 他们的方向越相反,\n",
        "接近于0, 表示两个向量近乎于正交\n",
        "\n",
        "[课程例子源码](https://github.com/cystanford/knn)"
      ]
    },
    {
      "cell_type": "code",
      "execution_count": null,
      "metadata": {},
      "outputs": [],
      "source": []
    },
    {
      "cell_type": "markdown",
      "metadata": {
        "id": "WWkf87AlD55V"
      },
      "source": [
        "## 课程例子"
      ]
    },
    {
      "cell_type": "code",
      "metadata": {
        "id": "E1Y-nOsOEDnY",
        "outputId": "af47ab32-a9a3-4572-a5a5-b811533f6269",
        "colab": {
          "base_uri": "https://localhost:8080/",
          "height": 463
        }
      },
      "source": [
        "# -*- coding: utf-8 -*-\n",
        "# 分类用\n",
        "from sklearn.neighbors import KNeighborsClassifier\n",
        "# 回归用\n",
        "# from sklearn.neighbors import KNeighborsRegressor\n",
        "\n",
        "# 手写数字分类\n",
        "from sklearn.model_selection import train_test_split\n",
        "from sklearn import preprocessing\n",
        "from sklearn.metrics import accuracy_score\n",
        "from sklearn.datasets import load_digits\n",
        "import matplotlib.pyplot as plt\n",
        "\n",
        "# 加载数据\n",
        "digits = load_digits()\n",
        "data = digits.data\n",
        "# 数据探索, (1797, 64) -> 1797幅数字图像,每幅图像大小是8*8像素\n",
        "print(data.shape)\n",
        "# 查看第一幅图像\n",
        "print(digits.images[0])\n",
        "# 第一幅图像代表的数字含义\n",
        "print(digits.target[0])\n",
        "# 将第一幅图像显示出来\n",
        "plt.gray()\n",
        "plt.imshow(digits.images[0])\n",
        "plt.show()\n",
        "\n",
        "# 分割数据，将25%的数据作为测试集，其余作为训练集\n",
        "train_x, test_x, train_y, test_y = train_test_split(data, digits.target, test_size=0.25, random_state=33)\n",
        "\n",
        "# 采用Z-Score规范化\n",
        "# ss = preprocessing.StandardScaler()\n",
        "# 采用Min-Max规范化\n",
        "ss = preprocessing.MinMaxScaler()\n",
        "train_ss_x = ss.fit_transform(train_x)\n",
        "test_ss_x = ss.transform(test_x)\n",
        "\n",
        "# 创建KNN分类器\n",
        "knn = KNeighborsClassifier()\n",
        "knn.fit(train_ss_x, train_y)\n",
        "predict_y = knn.predict(test_ss_x)\n",
        "print(\"KNN准确率: %.4lf\" % accuracy_score(test_y, predict_y))\n"
      ],
      "execution_count": null,
      "outputs": [
        {
          "output_type": "stream",
          "text": [
            "(1797, 64)\n",
            "[[ 0.  0.  5. 13.  9.  1.  0.  0.]\n",
            " [ 0.  0. 13. 15. 10. 15.  5.  0.]\n",
            " [ 0.  3. 15.  2.  0. 11.  8.  0.]\n",
            " [ 0.  4. 12.  0.  0.  8.  8.  0.]\n",
            " [ 0.  5.  8.  0.  0.  9.  8.  0.]\n",
            " [ 0.  4. 11.  0.  1. 12.  7.  0.]\n",
            " [ 0.  2. 14.  5. 10. 12.  0.  0.]\n",
            " [ 0.  0.  6. 13. 10.  0.  0.  0.]]\n",
            "0\n"
          ],
          "name": "stdout"
        },
        {
          "output_type": "display_data",
          "data": {
            "image/png": "[encoded data removed]",
            "text/plain": [
              "<Figure size 432x288 with 1 Axes>"
            ]
          },
          "metadata": {
            "tags": [],
            "needs_background": "light"
          }
        },
        {
          "output_type": "stream",
          "text": [
            "KNN准确率: 0.9822\n"
          ],
          "name": "stdout"
        }
      ]
    },
    {
      "cell_type": "markdown",
      "metadata": {
        "id": "5C0ohy7ID-CX"
      },
      "source": [
        "## 例子"
      ]
    },
    {
      "cell_type": "code",
      "metadata": {
        "id": "XCSICW1lDmzi",
        "outputId": "8e41f0ab-d9f8-421e-e3ec-49b4d3841bbc",
        "colab": {
          "base_uri": "https://localhost:8080/"
        }
      },
      "source": [
        "# -*- coding: utf-8 -*-\n",
        "from numpy import *\n",
        "import operator\n",
        "import numpy as np\n",
        "import matplotlib.pyplot as plt\n",
        "\n",
        "###通过KNN进行分类\n",
        "def classify(input, dataSet, label, k):\n",
        "    dataSize = dataSet.shape[0]\n",
        "    ####计算欧式距离\n",
        "    diff = tile(input, (dataSize, 1)) - dataSet\n",
        "    sqdiff = diff ** 2\n",
        "    ###行向量分别相加，从而得到新的一个行向量\n",
        "    squareDist = sum(sqdiff, axis=1)\n",
        "    dist = squareDist ** 0.5\n",
        "\n",
        "    ##对距离进行排序\n",
        "    ##argsort()根据元素的值从大到小对元素进行排序，返回下标\n",
        "    sortedDistIndex = argsort(dist)\n",
        "\n",
        "    classCount = {}\n",
        "    for i in range(k):\n",
        "        voteLabel = label[sortedDistIndex[i]]\n",
        "        ###对选取的K个样本所属的类别个数进行统计\n",
        "        classCount[voteLabel] = classCount.get(voteLabel, 0) + 1\n",
        "    ###选取出现的类别次数最多的类别\n",
        "    maxCount = 0\n",
        "    for key, value in classCount.items():\n",
        "        if value > maxCount:\n",
        "            maxCount = value\n",
        "            classes = key\n",
        "    return classes\n",
        "\n",
        "\n",
        "def data1():\n",
        "    group = array([[100, 5], [95, 3], [105, 31], [2, 59], [3, 60], [10, 80]])\n",
        "    # labels = ['战狼', '红海行动', '碟中谍6', '前任3','春娇救志明','泰坦尼克号']\n",
        "    labels = ['动作', '动作', '动作', '爱情', '爱情', '爱情']\n",
        "    return group, labels\n",
        "\n",
        "\n",
        "def data2():\n",
        "    group = array([[1.0, 2.0], [1.2, 0.1], [0.1, 1.4], [0.3, 3.5]])\n",
        "    labels = ['A', 'A', 'B', 'B']\n",
        "    return group, labels\n",
        "\n",
        "def img(x,y):\n",
        "    plt.scatter(x,y)\n",
        "    plt.show()\n",
        "\n",
        "def case1():\n",
        "    # 点例子\n",
        "    # dataSet, labels = data2()\n",
        "    # input = array([1.1, 0.3])\n",
        "\n",
        "    # 电影例子\n",
        "    dataSet, labels = data1()\n",
        "    # input = array([90, 4]) # 动作\n",
        "    input = array([4, 90])  # 爱情\n",
        "    # 训练集坐标图\n",
        "    x=[]\n",
        "    y=[]\n",
        "    for i in range(len(dataSet)):\n",
        "        x.append(dataSet[i][0])\n",
        "        y.append(dataSet[i][1])\n",
        "    x.append(input[0])\n",
        "    y.append(input[1])\n",
        "    img(x,y)\n",
        "\n",
        "    K = 3\n",
        "    output = classify(input, dataSet, labels, K)\n",
        "    print(\"元素坐标为:\", input, \"分类结果为：\", output)\n",
        "\n",
        "case1()\n"
      ],
      "execution_count": null,
      "outputs": [
        {
          "output_type": "display_data",
          "data": {
            "image/png": "[encoded data removed]",
            "text/plain": [
              "<Figure size 432x288 with 1 Axes>"
            ]
          },
          "metadata": {
            "tags": [],
            "needs_background": "light"
          }
        },
        {
          "output_type": "stream",
          "text": [
            "元素坐标为: [ 4 90] 分类结果为： 爱情\n"
          ],
          "name": "stdout"
        }
      ]
    },
    {
      "cell_type": "markdown",
      "metadata": {
        "id": "0zEsp7MOITaG"
      },
      "source": [
        "## 各种距离的计算"
      ]
    },
    {
      "cell_type": "markdown",
      "metadata": {
        "id": "kKBgQeBQJFPL"
      },
      "source": [
        "### 欧式距离"
      ]
    },
    {
      "cell_type": "code",
      "metadata": {
        "id": "zKLG2i66Igg6",
        "outputId": "cedffb83-b6b7-4488-c98d-f8023e7f19c7",
        "colab": {
          "base_uri": "https://localhost:8080/",
          "height": 71
        }
      },
      "source": [
        "import numpy as np\n",
        "from scipy.spatial.distance import pdist\n",
        "\n",
        "a = np.array([1, 2])\n",
        "b = np.array([4, 6])\n",
        "\n",
        "# 公式\n",
        "l1 = np.sqrt(np.sum(np.square(a - b)))\n",
        "print(l1)\n",
        "# numpy库\n",
        "l2 = np.linalg.norm(a - b)\n",
        "print(l2)\n",
        "# scipy库\n",
        "l3 = pdist(np.vstack([a, b]))\n",
        "print(l3)"
      ],
      "execution_count": 6,
      "outputs": [
        {
          "output_type": "stream",
          "text": [
            "5.0\n",
            "5.0\n",
            "[5.]\n"
          ],
          "name": "stdout"
        }
      ]
    },
    {
      "cell_type": "markdown",
      "metadata": {
        "id": "KCHaN1yZJMaP"
      },
      "source": [
        "### 曼哈顿距离"
      ]
    },
    {
      "cell_type": "code",
      "metadata": {
        "id": "_02PPs5pJOwL",
        "outputId": "88f8e5ca-706b-4ea5-b5c5-c4c7579ee6d2",
        "colab": {
          "base_uri": "https://localhost:8080/",
          "height": 71
        }
      },
      "source": [
        "import numpy as np\n",
        "from scipy.spatial.distance import pdist\n",
        "\n",
        "a = np.array([1, 1])\n",
        "b = np.array([2, 2])\n",
        "\n",
        "# 公式\n",
        "l1 = np.sum(np.abs(a - b))\n",
        "print(l1)\n",
        "# 库\n",
        "l2 = np.linalg.norm(a - b, ord=1)\n",
        "print(l2)\n",
        "# scipy库\n",
        "l3 = pdist(np.vstack([a, b]), 'cityblock')\n",
        "print(l3)"
      ],
      "execution_count": 8,
      "outputs": [
        {
          "output_type": "stream",
          "text": [
            "2\n",
            "2.0\n",
            "[2.]\n"
          ],
          "name": "stdout"
        }
      ]
    },
    {
      "cell_type": "markdown",
      "metadata": {
        "id": "fjgRBgd7JVyi"
      },
      "source": [
        "### 切比雪夫距离"
      ]
    },
    {
      "cell_type": "code",
      "metadata": {
        "id": "AqW7ngTTJU68",
        "outputId": "5759848e-d4f7-43cf-ec5d-1a39a78d9f40",
        "colab": {
          "base_uri": "https://localhost:8080/",
          "height": 71
        }
      },
      "source": [
        "import numpy as np\n",
        "from scipy.spatial.distance import pdist\n",
        "\n",
        "a = np.array([1, 2])\n",
        "b = np.array([4, 7])\n",
        "# 公式\n",
        "l1 = np.abs(a - b).max()\n",
        "print(l1)\n",
        "# numpy\n",
        "l2 = np.linalg.norm(a - b, ord=np.inf)\n",
        "print(l2)\n",
        "# scipy\n",
        "l3 = pdist(np.vstack([a, b]), 'chebyshev')\n",
        "print(l3)\n"
      ],
      "execution_count": 9,
      "outputs": [
        {
          "output_type": "stream",
          "text": [
            "5\n",
            "5.0\n",
            "[5.]\n"
          ],
          "name": "stdout"
        }
      ]
    },
    {
      "cell_type": "markdown",
      "metadata": {
        "id": "cXmtbn_nJdnK"
      },
      "source": [
        "### 余弦距离"
      ]
    },
    {
      "cell_type": "code",
      "metadata": {
        "id": "AGAvwZDRJf1O",
        "outputId": "beaea28f-cb12-4b35-8dc7-b90347ef8b7e",
        "colab": {
          "base_uri": "https://localhost:8080/",
          "height": 35
        }
      },
      "source": [
        "import numpy as np\n",
        "\n",
        "a = np.array([1, 1, 1])\n",
        "b = np.array([2, 2, 2])\n",
        "\n",
        "l1 = np.dot(a, b) / (np.linalg.norm(a) * (np.linalg.norm(b)))\n",
        "print(l1)\n"
      ],
      "execution_count": 12,
      "outputs": [
        {
          "output_type": "stream",
          "text": [
            "1.0000000000000002\n"
          ],
          "name": "stdout"
        }
      ]
    },
    {
      "cell_type": "markdown",
      "metadata": {
        "id": "Ej0PWwtiJ3oT"
      },
      "source": [
        "## 闵可夫斯基距离"
      ]
    },
    {
      "cell_type": "code",
      "metadata": {
        "id": "qIusv6EXJ50P",
        "outputId": "8f11b797-e4b7-4b45-8ef1-950288bcc214",
        "colab": {
          "base_uri": "https://localhost:8080/",
          "height": 53
        }
      },
      "source": [
        "import numpy as np\n",
        "from scipy.spatial.distance import pdist\n",
        "\n",
        "a = np.array([1, 2])\n",
        "b = np.array([4, 7])\n",
        "\n",
        "# 公式\n",
        "l1 = np.sqrt(np.sum(np.square(a - b)))\n",
        "print(l1)\n",
        "# scipy\n",
        "l2 = pdist(np.vstack([a, b]), 'minkowski', p=2)\n",
        "print(l2)\n"
      ],
      "execution_count": 10,
      "outputs": [
        {
          "output_type": "stream",
          "text": [
            "5.830951894845301\n",
            "[5.83095189]\n"
          ],
          "name": "stdout"
        }
      ]
    }
  ]
}