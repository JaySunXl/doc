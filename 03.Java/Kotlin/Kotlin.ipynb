{
 "cells": [
  {
   "cell_type": "markdown",
   "metadata": {},
   "source": [
    "## 条件语句"
   ]
  },
  {
   "cell_type": "code",
   "execution_count": null,
   "metadata": {},
   "outputs": [],
   "source": [
    "val a = 4\n",
    "val b = 3\n",
    "val c = if (a > b) a else b\n",
    "println(c)"
   ]
  },
  {
   "cell_type": "markdown",
   "metadata": {},
   "source": [
    "### 循环语句"
   ]
  },
  {
   "cell_type": "code",
   "execution_count": null,
   "metadata": {},
   "outputs": [],
   "source": []
  },
  {
   "cell_type": "markdown",
   "metadata": {},
   "source": [
    "## 数组\n",
    "\n",
    "* Kotlin语言使用Array表示数组。\n",
    "* `[]` 可以用于访问数组的元素, `[]` 被进行了操作符的重载，调用的是 Array 类的 setter 和 getter 方法\n"
   ]
  },
  {
   "cell_type": "code",
   "execution_count": null,
   "metadata": {
    "code_folding": []
   },
   "outputs": [],
   "source": [
    "val arrayEmpty = emptyArray<String>()\n",
    "val array1 = arrayOfNulls<Int>(5)\n",
    "for (i in 0..4) {\n",
    "    array1[i] = i\n",
    "}\n",
    "val array2 = arrayOf(1, 2, 3, 4)\n",
    "val array3 = intArrayOf(1, 2, 3, 4)\n",
    "val array4 = Array(5, {0})\n",
    "val array5 : Array<String> = Array(5, {\"\"})\n",
    "for (i in 0..2) {\n",
    "    array5[i] = i.toString()\n",
    "}\n",
    "val array7 = Array(4, { i -> i * i })"
   ]
  },
  {
   "cell_type": "code",
   "execution_count": null,
   "metadata": {
    "code_folding": []
   },
   "outputs": [],
   "source": [
    "// val array7 = Array(10, { i -> i * i })  //0,1,4,9,16\n",
    "// 遍历数组元素\n",
    "for (item in array7) {\n",
    "    println(item)\n",
    "}\n",
    "println(\"-------------\")\n",
    "// 遍历数组下标\n",
    "for (item in array7.indices) {\n",
    "    println(item)\n",
    "}\n",
    "// 迭代器遍历数组1\n",
    "val it = array7.iterator()\n",
    "for (item in it.iterator()) {\n",
    "    println(item)\n",
    "}\n",
    "// 迭代器遍历数组2\n",
    "val it1 = array7.iterator()\n",
    "it1.forEach {\n",
    "    println(it)\n",
    "}\n",
    "// forEach遍历数组\n",
    "array7.forEach {\n",
    "    println(it)\n",
    "}"
   ]
  },
  {
   "cell_type": "markdown",
   "metadata": {},
   "source": [
    "## 集合\n",
    "\n",
    "* 可变\n",
    "* 不可变\n",
    "\n",
    "### list\n",
    "\n",
    "* List\n",
    "* MutableList"
   ]
  },
  {
   "cell_type": "code",
   "execution_count": null,
   "metadata": {},
   "outputs": [],
   "source": [
    "val list1 = listOf<Int>(1, 2, 3)\n",
    "// list1.add(4)\n",
    "val list2 = mutableListOf<Int>(1, 2, 3)\n",
    "val list3 = emptyList<Int>()\n",
    "val list4 = listOfNotNull<Int>()\n",
    "\n",
    "list2.add(4)\n",
    "println(list2)\n",
    "list2.forEach{println(it.toString())}\n",
    "\n",
    "list2.forEachIndexed {index, i -> println(\"index: $index value: $i\")}"
   ]
  },
  {
   "cell_type": "markdown",
   "metadata": {},
   "source": [
    "### set\n",
    "\n",
    "\n",
    "* Set\n",
    "* MutableSet"
   ]
  },
  {
   "cell_type": "code",
   "execution_count": null,
   "metadata": {},
   "outputs": [],
   "source": [
    "val set1 = setOf<Int>(1,2,3)\n",
    "val set2 = mutableSetOf<Int>(1, 2, 3, 3)\n",
    "set2.add(4)\n",
    "println(set2)\n",
    "val set3 = emptySet<Int>()\n",
    "val set4 = linkedSetOf<Int>()"
   ]
  },
  {
   "cell_type": "markdown",
   "metadata": {},
   "source": [
    "### map\n",
    "\n",
    "* Map\n",
    "* MutableMap"
   ]
  },
  {
   "cell_type": "code",
   "execution_count": null,
   "metadata": {},
   "outputs": [],
   "source": [
    "val map1 = mapOf(Pair(\"key1\", 1), Pair(\"key2\", 2))\n",
    "val map2 = mapOf(\"key1\" to 1, \"key2\" to 2)\n",
    "val map3 = mutableMapOf(\"key1\" to 1, \"key2\" to 2)\n",
    "val map4 = emptyMap<Int,Int>()\n",
    "val map5 = hashMapOf<Int,Int>()\n",
    "val map6 = linkedMapOf<Int,Int>()\n",
    "val map7 = sortedMapOf<Int,Int>()\n",
    "println(map3)\n",
    "println(map2 == map3)"
   ]
  },
  {
   "cell_type": "markdown",
   "metadata": {},
   "source": [
    "## 其他"
   ]
  },
  {
   "cell_type": "code",
   "execution_count": null,
   "metadata": {},
   "outputs": [],
   "source": [
    "var a = 1\n",
    "var b = 2\n",
    "a = b.also { b = a }\n",
    "println(\"$a -- $b\")\n",
    "\n",
    "val array = intArrayOf(4, 3)\n",
    "array[0] = array[1].also{array[1] = array[0]}\n",
    "println(array.contentToString())"
   ]
  },
  {
   "cell_type": "markdown",
   "metadata": {},
   "source": [
    "* [集合](https://www.jianshu.com/p/fa5abe312269)"
   ]
  }
 ],
 "metadata": {
  "kernelspec": {
   "display_name": "Kotlin",
   "language": "kotlin",
   "name": "kotlin"
  },
  "language_info": {
   "codemirror_mode": "text/x-kotlin",
   "file_extension": ".kt",
   "mimetype": "text/x-kotlin",
   "name": "kotlin",
   "pygments_lexer": "kotlin",
   "version": "1.4.20-dev-2342"
  },
  "toc": {
   "base_numbering": 1,
   "nav_menu": {},
   "number_sections": false,
   "sideBar": true,
   "skip_h1_title": false,
   "title_cell": "Table of Contents",
   "title_sidebar": "Contents",
   "toc_cell": false,
   "toc_position": {},
   "toc_section_display": true,
   "toc_window_display": false
  }
 },
 "nbformat": 4,
 "nbformat_minor": 4
}
