{
 "cells": [
  {
   "cell_type": "markdown",
   "metadata": {},
   "source": [
    "## valueOf代替toString"
   ]
  },
  {
   "cell_type": "code",
   "execution_count": null,
   "metadata": {},
   "outputs": [],
   "source": [
    "import java.math.BigDecimal;\n",
    "BigDecimal bd = new BigDecimal(\"100\");\n",
    "// good\n",
    "System.out.println(String.valueOf(bd));\n",
    "// not good\n",
    "System.out.println(bd.toString());"
   ]
  },
  {
   "cell_type": "code",
   "execution_count": null,
   "metadata": {},
   "outputs": [],
   "source": []
  }
 ],
 "metadata": {
  "kernelspec": {
   "display_name": "Java",
   "language": "java",
   "name": "java"
  },
  "language_info": {
   "codemirror_mode": "java",
   "file_extension": ".jshell",
   "mimetype": "text/x-java-source",
   "name": "Java",
   "pygments_lexer": "java",
   "version": "11.0.5+10-LTS"
  }
 },
 "nbformat": 4,
 "nbformat_minor": 4
}
